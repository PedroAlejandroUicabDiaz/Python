{
 "cells": [
  {
   "cell_type": "markdown",
   "metadata": {},
   "source": [
    "# Encryption types\n",
    "\n",
    "Encryption is a procedure used to encryption an message with algorithm with a certain key (**encryption key**) to transform a message, regardless of its linguistic structure or meaning so, it is incomprehensible or, at least, difficult for everyone to understand that does not have the secret key (**decryption key**) of the algorithm. Encryption and decryption keys can be the same (**symmetric cryptography**), different (**asymmetric cryptography**), or both types (**hybrid cryptography**).\n",
    "\n",
    "For this code I going to develop two types of encryption.\n",
    "\n",
    "1. Caesar's Cipher\n",
    "2. Asymmetric Encryption\n"
   ]
  },
  {
   "cell_type": "markdown",
   "metadata": {},
   "source": [
    "# Caesar's Cipher\n",
    "\n",
    "![caesarcipher](https://upload.wikimedia.org/wikipedia/commons/thumb/4/4a/Caesar_cipher_left_shift_of_3.svg/1200px-Caesar_cipher_left_shift_of_3.svg.png)"
   ]
  },
  {
   "cell_type": "markdown",
   "metadata": {},
   "source": [
    "# Asymmetric Encryption\n",
    "![asymetricencryption](https://www.researchgate.net/profile/Ons_Jallouli/publication/321123382/figure/fig2/AS:561500483002368@1510883555030/Asymmetric-encryption-primitive.png)"
   ]
  },
  {
   "cell_type": "markdown",
   "metadata": {},
   "source": [
    "---"
   ]
  },
  {
   "cell_type": "markdown",
   "metadata": {},
   "source": [
    "# First Code"
   ]
  },
  {
   "cell_type": "markdown",
   "metadata": {},
   "source": [
    "---"
   ]
  },
  {
   "cell_type": "code",
   "execution_count": 1,
   "metadata": {},
   "outputs": [],
   "source": [
    "# Caesar's Cipher\n",
    "# Import Sympy library, to use encipher and decipher options \n",
    "from sympy.crypto.crypto import encipher_shift, decipher_shift"
   ]
  },
  {
   "cell_type": "code",
   "execution_count": 2,
   "metadata": {},
   "outputs": [
    {
     "name": "stdout",
     "output_type": "stream",
     "text": [
      "Enter you message:My name is Carlitos\n"
     ]
    }
   ],
   "source": [
    "#Ask for message\n",
    "message=input(\"Enter you message:\")"
   ]
  },
  {
   "cell_type": "code",
   "execution_count": 3,
   "metadata": {},
   "outputs": [
    {
     "name": "stdout",
     "output_type": "stream",
     "text": [
      "LXMZLDHRBZQKHSNR\n"
     ]
    }
   ],
   "source": [
    "\"\"\"\n",
    "encipher_shift accept 2 parametert\n",
    "the message to encypt and the key\n",
    "they key is the slip in the alphabet that \n",
    "the encryption will have\n",
    "1: a->z\n",
    "-1: z->z\n",
    "1-26: any position\n",
    "\"\"\"\n",
    "encrypted_message=encipher_shift(message,-1)\n",
    "print(encrypted_message)"
   ]
  },
  {
   "cell_type": "code",
   "execution_count": 4,
   "metadata": {},
   "outputs": [
    {
     "name": "stdout",
     "output_type": "stream",
     "text": [
      "MYNAMEISCARLITOS\n"
     ]
    }
   ],
   "source": [
    "# decipher needs the same parameters\n",
    "decrypted_message=decipher_shift(encrypted_message,-1)\n",
    "print(decrypted_message)"
   ]
  },
  {
   "cell_type": "markdown",
   "metadata": {},
   "source": [
    "---"
   ]
  },
  {
   "cell_type": "markdown",
   "metadata": {},
   "source": [
    "# Second Code"
   ]
  },
  {
   "cell_type": "markdown",
   "metadata": {},
   "source": [
    "---"
   ]
  },
  {
   "cell_type": "code",
   "execution_count": 41,
   "metadata": {},
   "outputs": [],
   "source": [
    "# Asymmetric Encryption\n",
    "# Key creation using Crypto lribrary\n",
    "import Crypto\n",
    "import binascii\n",
    "from Crypto.PublicKey import RSA\n",
    "from Crypto.Cipher import PKCS1_OAEP\n",
    "\n",
    "random_generator=Crypto.Random.new().read\n",
    "#Private Key\n",
    "private_key=RSA.generate(1024,random_generator)\n",
    "#Public Key\n",
    "public_key=private_key.publickey()\n"
   ]
  },
  {
   "cell_type": "code",
   "execution_count": 42,
   "metadata": {},
   "outputs": [
    {
     "name": "stdout",
     "output_type": "stream",
     "text": [
      "<_RSAobj @0x23b5fa72fc8 n(1024),e,d,p,q,u,private>\n"
     ]
    }
   ],
   "source": [
    "#encrypted private key\n",
    "print(private_key)"
   ]
  },
  {
   "cell_type": "code",
   "execution_count": 43,
   "metadata": {},
   "outputs": [
    {
     "name": "stdout",
     "output_type": "stream",
     "text": [
      "<_RSAobj @0x23b5fa72f48 n(1024),e>\n"
     ]
    }
   ],
   "source": [
    "#encrypted public key\n",
    "print(public_key)"
   ]
  },
  {
   "cell_type": "code",
   "execution_count": 44,
   "metadata": {},
   "outputs": [
    {
     "name": "stdout",
     "output_type": "stream",
     "text": [
      "3082025c02010002818100a42f2e889429c7edb98c68a6e19ab7461ae4186301e4ca1c6244bca3503b3de4055fc410a9d957581525b90e7e22b9b34a7ed1f99b0bb0ca16e6a83362734ec8b3024164f4c4b3c30d3174e33cbee7683f0dfb6cc5eda2549858755ef6cf49e21cef40af55f532f0e69b8bf3b7aaa6c60de8e51645ef8d5be996894558de228702030100010281807113f1d7ad3bed6fc45879075ee06113ce9784584448a00ed67b82f473e0a96aaf6cdaaba35f8671aaf6f5328f1b398ccb64f717137b04c2daecf7b1943fd864f55dbf5792a507d1748e9459298519153690900d4a91e740516d1c32f24c5694e130cd6965c6938c32acaa74b8bb64c148959ad122ef1679739fcf7418463d11024100c24989c7bba5fd52cbcff972ceeae58a460d266b1bcbb03189c679426a9b30e69e7d4e273da5c69d38cb055b5087ddbad051fbe5cb445f369f799842e11f81f9024100d855d2a4ae6f1dda2303c54049fe4d86563642cafc92fe5e8f4a7c1bbd4e8a1437c2f0be71eef0fcc57d19e40cc662dc314b470cee4ce8effe226fd26ccbe87f02404631c783d03a32823d7cd085385909c1a17992cdd3e70dab7839ab09e1f65bfe9678734a1e2dccca750074d8ff097784cd4b31955e913f4d3ee4f1ac0826181102404b1646bd8819e337a26d9d9a39d47d5e02306530854813e8083e27238daa63fcae7a080b620a3834d3eb1f006b7ab4378f187cb9bd408e9d360d07d8f69033cb02410095105d2b0c99ee7ef6a03fd3e0a3b2d1b9ea90f75623487a90eab008286ad99853b64efdbace6901b926eb4e2680c2554c647bd54bb5ca74260dba799894d06e\n"
     ]
    }
   ],
   "source": [
    "#decrypting private key\n",
    "private_key=private_key.exportKey(format='DER')\n",
    "private_key=binascii.hexlify(private_key).decode('utf8')\n",
    "print(private_key)"
   ]
  },
  {
   "cell_type": "code",
   "execution_count": 45,
   "metadata": {},
   "outputs": [
    {
     "name": "stdout",
     "output_type": "stream",
     "text": [
      "30819f300d06092a864886f70d010101050003818d0030818902818100a42f2e889429c7edb98c68a6e19ab7461ae4186301e4ca1c6244bca3503b3de4055fc410a9d957581525b90e7e22b9b34a7ed1f99b0bb0ca16e6a83362734ec8b3024164f4c4b3c30d3174e33cbee7683f0dfb6cc5eda2549858755ef6cf49e21cef40af55f532f0e69b8bf3b7aaa6c60de8e51645ef8d5be996894558de22870203010001\n"
     ]
    }
   ],
   "source": [
    "#decrypting public key\n",
    "public_key=public_key.exportKey(format='DER')\n",
    "public_key=binascii.hexlify(public_key).decode('utf8')\n",
    "print(public_key)"
   ]
  },
  {
   "cell_type": "code",
   "execution_count": 46,
   "metadata": {},
   "outputs": [],
   "source": [
    "# Converting keys to RSA object (ascii to RSA)\n",
    "# Privet Key\n",
    "private_key=RSA.importKey(binascii.unhexlify(private_key))\n",
    "#Public Key\n",
    "public_key=RSA.importKey(binascii.unhexlify(public_key))"
   ]
  },
  {
   "cell_type": "code",
   "execution_count": 47,
   "metadata": {},
   "outputs": [
    {
     "name": "stdout",
     "output_type": "stream",
     "text": [
      "Enter your message:hola\n"
     ]
    }
   ],
   "source": [
    "# Asking message\n",
    "message=input('Enter your message:')\n",
    "# message encoding\n",
    "message=message.encode()"
   ]
  },
  {
   "cell_type": "code",
   "execution_count": 50,
   "metadata": {},
   "outputs": [
    {
     "name": "stdout",
     "output_type": "stream",
     "text": [
      "b'\\x7f\\x8e\\x8d@\\x005\\xd5\\xef\\xe8\\x8f\\xd0\\x98\\x86U]?\\xf1Yr\\xa2\\x85\\xf3\\xe2\\xba\\xb2\\x1c\\xfco\\x0e\\xbf\\r\\xe4P\\xbdA\\x82$;\\xe5\\x16\\x19\\xdcJ\\x1d\\x1fm\\xbc\\n\\xe3m\\x80H\\xe5\\x07s\\x96\\xa1\\xc0\"^\\xa8\\xbd^\\xb15\\x00\\xfc\\xb1\\x91Q\\x98\\xa4\\x12\\x08\\x99\\x1a\\xcc\\x13,l\\xde\\x06\\x92t\\x19\\x1a\\xb4f\\xdf+\\xf4&7\\xe7\\xd1O\\xf5\\x0c*)\\xe6ns)[\\xe5\\xe8\\xed\\xeb\\xfa\\xecwa\\x11\\xd7&\\x8f\\xee\\x8e\\xdc\\xb9\\x0e6\\xaeC%\\xb0\\xd0'\n"
     ]
    }
   ],
   "source": [
    "# encrypt plain text (message) with public key\n",
    "cipher=PKCS1_OAEP.new(public_key)\n",
    "# message encrypted\n",
    "encrypted_message=cipher.encrypt(message)\n",
    "print(encrypted_message)"
   ]
  },
  {
   "cell_type": "code",
   "execution_count": 51,
   "metadata": {},
   "outputs": [
    {
     "name": "stdout",
     "output_type": "stream",
     "text": [
      "b'hola'\n"
     ]
    }
   ],
   "source": [
    "# decrypt plain text with private key\n",
    "cipher=PKCS1_OAEP.new(private_key)\n",
    "# message decrypted\n",
    "message=cipher.decrypt(encrypted_message)\n",
    "print(message)"
   ]
  },
  {
   "cell_type": "markdown",
   "metadata": {},
   "source": [
    "# Notes \n",
    "\n",
    "**1.** You must install pycripto and crypto before to write code.\n",
    "\n",
    "    pip install pycripto, pip intsall Crypto\n",
    "    \n",
    "**2.** Second code.\n",
    "\n",
    "    Basically, a random number was generated through \"entropy\". Then, the private and public key was generated and finally the message was encrypted using the public key and to decrypt the private key.\n",
    "     "
   ]
  },
  {
   "cell_type": "markdown",
   "metadata": {},
   "source": [
    "# References\n",
    "\n",
    "https://www.blog.pythonlibrary.org/2016/05/18/python-3-an-intro-to-encryption/\n",
    "\n",
    "https://nitratine.net/blog/post/encryption-and-decryption-in-python/\n",
    "\n",
    "https://www.geeksforgeeks.org/cryptography-gui-using-python/\n",
    "\n",
    "https://www.youtube.com/watch?v=MkdlDwqvUHk\n"
   ]
  }
 ],
 "metadata": {
  "kernelspec": {
   "display_name": "Python 3",
   "language": "python",
   "name": "python3"
  },
  "language_info": {
   "codemirror_mode": {
    "name": "ipython",
    "version": 3
   },
   "file_extension": ".py",
   "mimetype": "text/x-python",
   "name": "python",
   "nbconvert_exporter": "python",
   "pygments_lexer": "ipython3",
   "version": "3.7.4"
  }
 },
 "nbformat": 4,
 "nbformat_minor": 2
}
